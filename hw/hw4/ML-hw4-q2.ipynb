{
  "cells": [
    {
      "cell_type": "markdown",
      "source": [
        "# 2 Kernelized SVM vs Neural Networks: Theory and Empirics"
      ],
      "metadata": {
        "id": "V3VNRJUAt_ll"
      },
      "id": "V3VNRJUAt_ll"
    },
    {
      "cell_type": "markdown",
      "source": [
        "#### Comparing Empirical Performance of KSVMs and NNs: If both KSVMs and NNs have universal approximation (as seen in previous parts), then why are NNs more used in practice?\n",
        "\n",
        "#### While both KSVMs and NNs are powerful models that can work well on arbitrarily complex datasets, on simpler datasets, we want models that require fewer training samples to yield good prediction. Here we will compare the relative performance of KSVMs and NNs on increasingly complex datasets and study which model class adapts better.\n",
        "\n",
        "#### Download the dataset provided. It contains train and test samples of various sizes of (x, y) pairs of functions with increasing complexity. For this question, you may use any library you want.\n"
      ],
      "metadata": {
        "id": "f-BGDQhbu5gF"
      },
      "id": "f-BGDQhbu5gF"
    },
    {
      "cell_type": "markdown",
      "source": [
        "### (i) To get a feel for the data, create scatter plots (x vs. y) using 50 training samples and 1000 training samples for each function complexity. (There are a total of 10 plots.)"
      ],
      "metadata": {
        "id": "1yPKkJYfu7JI"
      },
      "id": "1yPKkJYfu7JI"
    },
    {
      "cell_type": "code",
      "source": [],
      "metadata": {
        "id": "5GK-KUQfunP5"
      },
      "id": "5GK-KUQfunP5",
      "execution_count": null,
      "outputs": []
    },
    {
      "cell_type": "markdown",
      "source": [],
      "metadata": {
        "id": "pIPctVA9u4vA"
      },
      "id": "pIPctVA9u4vA"
    }
  ],
  "metadata": {
    "colab": {
      "provenance": []
    }
  },
  "nbformat": 4,
  "nbformat_minor": 5
}
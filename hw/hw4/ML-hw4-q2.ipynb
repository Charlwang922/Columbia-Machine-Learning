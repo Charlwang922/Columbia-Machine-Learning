{
  "cells": [
    {
      "cell_type": "markdown",
      "source": [
        "# 2 Kernelized SVM vs Neural Networks: Theory and Empirics"
      ],
      "metadata": {
        "id": "V3VNRJUAt_ll"
      },
      "id": "V3VNRJUAt_ll"
    },
    {
      "cell_type": "code",
      "source": [],
      "metadata": {
        "id": "5GK-KUQfunP5"
      },
      "id": "5GK-KUQfunP5",
      "execution_count": null,
      "outputs": []
    }
  ],
  "metadata": {
    "colab": {
      "provenance": []
    }
  },
  "nbformat": 4,
  "nbformat_minor": 5
}
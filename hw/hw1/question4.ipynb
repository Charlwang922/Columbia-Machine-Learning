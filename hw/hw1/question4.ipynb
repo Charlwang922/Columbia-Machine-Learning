{
 "cells": [
  {
   "cell_type": "markdown",
   "id": "b7d5ed74",
   "metadata": {},
   "source": [
    "## 4 Exploring the Limits Current Language Models"
   ]
  },
  {
   "cell_type": "markdown",
   "id": "7aedcd30",
   "metadata": {},
   "source": [
    "(ii) (a) Clean the data by removing all punctuation except “,.?!” and converting all words to lower case. You may also find it helpful to add special <START> and <END> tokens for calculating N -gram probabilities. Partition 90% of the data to a training set and 10% to test set."
   ]
  },
  {
   "cell_type": "code",
   "execution_count": 12,
   "id": "b198d327",
   "metadata": {},
   "outputs": [],
   "source": [
    "import string"
   ]
  },
  {
   "cell_type": "code",
   "execution_count": 13,
   "id": "8ce6c272",
   "metadata": {},
   "outputs": [],
   "source": [
    "##remove punctuations from text except characters “,.?!”\n",
    "##converting all words to lower case\n",
    "def clean_data(text):\n",
    "    punc = string.punctuation\n",
    "    for c in ',.?!':\n",
    "        punc = punc.translate({ord(c): None for x in c})\n",
    "    t = str.maketrans(\"\",\"\",punc)\n",
    "    return text.translate(t).lower()"
   ]
  },
  {
   "cell_type": "code",
   "execution_count": 14,
   "id": "8fa56534",
   "metadata": {},
   "outputs": [
    {
     "name": "stdout",
     "output_type": "stream",
     "text": [
      "aboeaner.\n"
     ]
    }
   ],
   "source": [
    "with open(\"gpt.txt\", \"r\", encoding=\"utf-8\") as fhum:\n",
    "    hum = []\n",
    "    "
   ]
  },
  {
   "cell_type": "code",
   "execution_count": null,
   "id": "944c2e35",
   "metadata": {},
   "outputs": [],
   "source": []
  }
 ],
 "metadata": {
  "kernelspec": {
   "display_name": "Python 3 (ipykernel)",
   "language": "python",
   "name": "python3"
  },
  "language_info": {
   "codemirror_mode": {
    "name": "ipython",
    "version": 3
   },
   "file_extension": ".py",
   "mimetype": "text/x-python",
   "name": "python",
   "nbconvert_exporter": "python",
   "pygments_lexer": "ipython3",
   "version": "3.9.13"
  }
 },
 "nbformat": 4,
 "nbformat_minor": 5
}
